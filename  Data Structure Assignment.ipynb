{
 "cells": [
  {
   "cell_type": "markdown",
   "id": "a88765b0-f2fc-4002-80cb-c45bff4fbb0e",
   "metadata": {},
   "source": [
    "1. Discuss string slicing and provide examples"
   ]
  },
  {
   "cell_type": "raw",
   "id": "3e076ad8-653f-467e-882f-ad2d7a8e73ed",
   "metadata": {},
   "source": [
    "-Python slicing is about obtaining a sub-string from the given string by slicing it respectively from start to end. \n",
    "-Python slicing can be done in two ways:\n",
    "    -Using a slice() method\n",
    "    -Using the array slicing  [:: ] method"
   ]
  },
  {
   "cell_type": "code",
   "execution_count": 6,
   "id": "e49971ae-da3b-4054-9a9a-8b9f55518e85",
   "metadata": {},
   "outputs": [
    {
     "name": "stdout",
     "output_type": "stream",
     "text": [
      "- String slicing\n",
      "AJA\n",
      "JY\n",
      "RSAA\n"
     ]
    }
   ],
   "source": [
    "Name = 'AJAYSIR'\n",
    "\n",
    "# Using slice constructor\n",
    "n1 = slice(3)\n",
    "n2 = slice(1, 5, 2)\n",
    "n3 = slice(-1, -8, -2)\n",
    "\n",
    "print(\"- String slicing\")\n",
    "print(Name[s1])\n",
    "print(Name[s2])\n",
    "print(Name[s3])"
   ]
  },
  {
   "cell_type": "code",
   "execution_count": null,
   "id": "41d9af5e-801d-401e-9aaf-ca0cce9a2644",
   "metadata": {},
   "outputs": [],
   "source": []
  },
  {
   "cell_type": "markdown",
   "id": "b9b43549-6d9a-4d24-830b-90193908ca48",
   "metadata": {},
   "source": [
    "2. Explain the key features of list in python"
   ]
  },
  {
   "cell_type": "raw",
   "id": "ffb52a45-3f1e-4d29-b4ec-38d646c25889",
   "metadata": {},
   "source": [
    "- List is a collecation of items\n",
    "- List is a Shopping bag which can store anything. \n",
    "- Lists are mutable.\n",
    "- Lists are dynamic, list items can be added, removed or changed after the list is defined.\n",
    "- Lists use zero-based indexing, every list item has an associated index, and the first item's index is 0."
   ]
  },
  {
   "cell_type": "markdown",
   "id": "797e97ee-6e9d-45ab-8f9b-fe0ab8fe9cc6",
   "metadata": {},
   "source": [
    "3. Describe how to access modify and delete elements in a list with examples."
   ]
  },
  {
   "cell_type": "code",
   "execution_count": null,
   "id": "cd5f8f6d-b21d-4459-b54b-d470a2699720",
   "metadata": {},
   "outputs": [],
   "source": []
  },
  {
   "cell_type": "code",
   "execution_count": 37,
   "id": "996586e0-5b9e-47c8-9bc3-dd2a8a19bb4a",
   "metadata": {},
   "outputs": [
    {
     "data": {
      "text/plain": [
       "[1, 2, 3, 4, 5, 6, 7, 8, 9]"
      ]
     },
     "execution_count": 37,
     "metadata": {},
     "output_type": "execute_result"
    }
   ],
   "source": [
    "#Delete Values\n",
    "Number = [1, 2, 3, 4, 5, 6, 7, 8, 9]\n",
    "Number"
   ]
  },
  {
   "cell_type": "code",
   "execution_count": 44,
   "id": "2d9dcf3d-4a4a-4441-b814-f4039035d1b8",
   "metadata": {},
   "outputs": [],
   "source": [
    "del Number[2]"
   ]
  },
  {
   "cell_type": "code",
   "execution_count": 42,
   "id": "6bfbc396-c2fb-4bed-ab6e-dde78c1bec3d",
   "metadata": {},
   "outputs": [
    {
     "data": {
      "text/plain": [
       "[1, 2, 4, 5, 6, 7, 8, 9]"
      ]
     },
     "execution_count": 42,
     "metadata": {},
     "output_type": "execute_result"
    }
   ],
   "source": [
    "Number "
   ]
  },
  {
   "cell_type": "code",
   "execution_count": 45,
   "id": "4ae73c62-f06f-4eea-926d-5b8c6213bc4b",
   "metadata": {},
   "outputs": [],
   "source": [
    "del Number[3:5]"
   ]
  },
  {
   "cell_type": "code",
   "execution_count": 46,
   "id": "467c6d1a-0828-4041-81d4-21ad51f1f6a1",
   "metadata": {},
   "outputs": [
    {
     "data": {
      "text/plain": [
       "[1, 2, 5, 8, 9]"
      ]
     },
     "execution_count": 46,
     "metadata": {},
     "output_type": "execute_result"
    }
   ],
   "source": [
    "Number"
   ]
  },
  {
   "cell_type": "code",
   "execution_count": 50,
   "id": "38adf71e-8faa-4740-b50b-28621a4b8024",
   "metadata": {},
   "outputs": [],
   "source": [
    "#Add value\n",
    "Number.append (3)"
   ]
  },
  {
   "cell_type": "code",
   "execution_count": 52,
   "id": "be1a7016-3424-403b-afa0-c7c2c607dc09",
   "metadata": {},
   "outputs": [
    {
     "data": {
      "text/plain": [
       "[1, 2, 5, 8, 9, 3]"
      ]
     },
     "execution_count": 52,
     "metadata": {},
     "output_type": "execute_result"
    }
   ],
   "source": [
    "Number"
   ]
  },
  {
   "cell_type": "code",
   "execution_count": 53,
   "id": "70f0e374-a7a0-4baa-9268-9cb6708f4b3e",
   "metadata": {},
   "outputs": [],
   "source": [
    "#remove element of \n",
    "Number.remove(3)"
   ]
  },
  {
   "cell_type": "code",
   "execution_count": 54,
   "id": "ad1bc226-569c-47fe-a9e2-9d5fbb9dbfa1",
   "metadata": {},
   "outputs": [
    {
     "data": {
      "text/plain": [
       "[1, 2, 5, 8, 9]"
      ]
     },
     "execution_count": 54,
     "metadata": {},
     "output_type": "execute_result"
    }
   ],
   "source": [
    "Number"
   ]
  },
  {
   "cell_type": "code",
   "execution_count": null,
   "id": "debc5bda-2f0b-4a92-9482-c813961b3a61",
   "metadata": {},
   "outputs": [],
   "source": []
  },
  {
   "cell_type": "markdown",
   "id": "fd1f5d74-0dbc-4432-a422-2a18013daf91",
   "metadata": {},
   "source": [
    "4. Compare and contrast tuples and lists with examples."
   ]
  },
  {
   "cell_type": "raw",
   "id": "9e96e817-10e6-4ca5-82a4-b56ec5055afc",
   "metadata": {},
   "source": [
    "* List\n",
    "- List is mutable.\n",
    "- The implication of iterations is time-consuming in the list.\n",
    "- Consumes more memory."
   ]
  },
  {
   "cell_type": "raw",
   "id": "5c9f34ba-ae31-44c8-a390-dcbfa8e353ec",
   "metadata": {},
   "source": [
    "* Tuple\n",
    "- Tuple is immutable.\n",
    "- Implications of iterations are much faster in tuples.\n",
    "- Consumes less memory."
   ]
  },
  {
   "cell_type": "code",
   "execution_count": 4,
   "id": "7cd827a7-01f5-4fd2-96c8-0c977fff8cee",
   "metadata": {},
   "outputs": [
    {
     "name": "stdout",
     "output_type": "stream",
     "text": [
      "['a', 'b', 1, 2, (3+2j)]\n"
     ]
    }
   ],
   "source": [
    "#list Example >>  lists by square brackets [ ] \n",
    "Values = ['a', 'b', 1, 2, 3+2j ]\n",
    "print(Values)"
   ]
  },
  {
   "cell_type": "code",
   "execution_count": 8,
   "id": "839006a0-fd8c-43e9-988b-2183e20c3709",
   "metadata": {},
   "outputs": [
    {
     "data": {
      "text/plain": [
       "list"
      ]
     },
     "execution_count": 8,
     "metadata": {},
     "output_type": "execute_result"
    }
   ],
   "source": [
    "type(Values)"
   ]
  },
  {
   "cell_type": "code",
   "execution_count": 9,
   "id": "61742ee4-3832-47a3-b80d-1f81326073b7",
   "metadata": {},
   "outputs": [
    {
     "name": "stdout",
     "output_type": "stream",
     "text": [
      "('a', 'b', 1, 2, (3+2j))\n"
     ]
    }
   ],
   "source": [
    "#Tuple Example >> Tuples are enclosed by round brackets () \n",
    "Values = ('a', 'b', 1, 2, 3+2j )\n",
    "print(Values)"
   ]
  },
  {
   "cell_type": "code",
   "execution_count": 10,
   "id": "8616cc4b-539d-4904-83d9-35f9bbecdc67",
   "metadata": {},
   "outputs": [
    {
     "data": {
      "text/plain": [
       "tuple"
      ]
     },
     "execution_count": 10,
     "metadata": {},
     "output_type": "execute_result"
    }
   ],
   "source": [
    "type(Values)"
   ]
  },
  {
   "cell_type": "code",
   "execution_count": null,
   "id": "855d2bcc-ff3d-42ec-92c0-8886deae4b3d",
   "metadata": {},
   "outputs": [],
   "source": []
  },
  {
   "cell_type": "markdown",
   "id": "d3d737a4-1a69-4ab4-8819-fb9a2f8b9ad3",
   "metadata": {},
   "source": [
    "5. Describe the key features of sets and provide examples of their use."
   ]
  },
  {
   "cell_type": "raw",
   "id": "28a30e73-492d-467b-871d-101090657447",
   "metadata": {},
   "source": [
    "- Sets are used to store multiple items in a single variable.\n",
    "- Set is one of 4 built-in data types in Python used to store collections of data.\n",
    "- Set items are unchangeable, but we can remove items and add new items.\n",
    "- Sets are written with curly brackets.  {}"
   ]
  },
  {
   "cell_type": "code",
   "execution_count": 12,
   "id": "09d53cef-a90b-4734-9641-5a50db3efee1",
   "metadata": {},
   "outputs": [
    {
     "name": "stdout",
     "output_type": "stream",
     "text": [
      "{'banana', 'apple', 'cherry'}\n"
     ]
    }
   ],
   "source": [
    "Itam = {\"apple\", \"banana\", \"cherry\", \"apple\"}\n",
    "print(Itam)"
   ]
  },
  {
   "cell_type": "code",
   "execution_count": 13,
   "id": "a4e2e0da-f667-4173-bdd7-5eb988ea524e",
   "metadata": {},
   "outputs": [
    {
     "data": {
      "text/plain": [
       "set"
      ]
     },
     "execution_count": 13,
     "metadata": {},
     "output_type": "execute_result"
    }
   ],
   "source": [
    "type(Itam)"
   ]
  },
  {
   "cell_type": "code",
   "execution_count": null,
   "id": "2ca44b57-1afd-474a-8322-3fe7821ee99a",
   "metadata": {},
   "outputs": [],
   "source": []
  },
  {
   "cell_type": "markdown",
   "id": "68ab5208-2a56-4fc2-9408-4e2007940fd2",
   "metadata": {},
   "source": [
    "6. Discuss the use cases of tuples and sets in python programming."
   ]
  },
  {
   "cell_type": "raw",
   "id": "73eb6145-1ace-45a0-bcbd-57654a55f189",
   "metadata": {},
   "source": [
    "- Tuples and sets are both data structures in Python. Tuples are ordered collections of elements, which are immutable. Sets, on the other hand, are unordered collections of unique elements.\n",
    "\n",
    "-Tuples are used to store multiple items in a single variable.\n",
    "-A tuple is a collection which is ordered and unchangeable.\n",
    "\n",
    "\n",
    "-Sets are used to store multiple items in a single variable.\n",
    "-Set items are unchangeable, but you can remove items and add new items."
   ]
  },
  {
   "cell_type": "markdown",
   "id": "569e94fc-f148-4bf4-80ab-c012de5c6b5c",
   "metadata": {},
   "source": [
    "7. Describe how to add, modify, and delete items in dictionary with example."
   ]
  },
  {
   "cell_type": "code",
   "execution_count": 2,
   "id": "41caf40c-7fdd-4ceb-a68e-6c3c80c3acaa",
   "metadata": {},
   "outputs": [
    {
     "name": "stdout",
     "output_type": "stream",
     "text": [
      "{'brand': 'Ford', 'model': 'Mustang', 'year': 1964}\n"
     ]
    }
   ],
   "source": [
    "# Add Items \n",
    "car = { \"brand\": \"Ford\", \"model\": \"Mustang\", \"year\": 1964\n",
    "}\n",
    "print(car)"
   ]
  },
  {
   "cell_type": "code",
   "execution_count": 4,
   "id": "bc3d96ce-8e8f-4db6-b9f3-454cf29aa148",
   "metadata": {},
   "outputs": [
    {
     "name": "stdout",
     "output_type": "stream",
     "text": [
      "{'brand': 'Ford', 'model': 'Mustang', 'year': 1964, 'color': 'red'}\n"
     ]
    }
   ],
   "source": [
    "car = { \"brand\": \"Ford\", \"model\": \"Mustang\", \"year\": 1964\n",
    "}\n",
    "car[\"color\"] = \"red\"\n",
    "print(car)"
   ]
  },
  {
   "cell_type": "code",
   "execution_count": 7,
   "id": "20960775-42ea-4506-9c06-c577b0e52bf7",
   "metadata": {},
   "outputs": [
    {
     "data": {
      "text/plain": [
       "{'brand': 'Ford', 'model': 'Mustang', 'year': 1964}"
      ]
     },
     "execution_count": 7,
     "metadata": {},
     "output_type": "execute_result"
    }
   ],
   "source": [
    "#Modify items\n",
    "car = { \"brand\": \"Ford\", \"model\": \"Mustang\", \"year\": 1964 }\n",
    "car"
   ]
  },
  {
   "cell_type": "code",
   "execution_count": 8,
   "id": "db86ceb0-1762-4d7b-97f5-da64675b5654",
   "metadata": {},
   "outputs": [],
   "source": [
    "car[\"year\"] = 2018"
   ]
  },
  {
   "cell_type": "code",
   "execution_count": 9,
   "id": "430e3dea-c014-447e-af28-a43a33fc94d1",
   "metadata": {},
   "outputs": [
    {
     "data": {
      "text/plain": [
       "{'brand': 'Ford', 'model': 'Mustang', 'year': 2018}"
      ]
     },
     "execution_count": 9,
     "metadata": {},
     "output_type": "execute_result"
    }
   ],
   "source": [
    "car"
   ]
  },
  {
   "cell_type": "code",
   "execution_count": 11,
   "id": "9ff99805-a71c-4490-b5f8-6bc3dc3041a8",
   "metadata": {},
   "outputs": [],
   "source": [
    "# Delete Item\n",
    "car = { \"brand\": \"Ford\", \"model\": \"Mustang\", \"year\": 1964 }"
   ]
  },
  {
   "cell_type": "code",
   "execution_count": 12,
   "id": "39bdcf3c-0929-492e-b00c-abc96f02b200",
   "metadata": {},
   "outputs": [
    {
     "data": {
      "text/plain": [
       "{'brand': 'Ford', 'model': 'Mustang', 'year': 1964}"
      ]
     },
     "execution_count": 12,
     "metadata": {},
     "output_type": "execute_result"
    }
   ],
   "source": [
    "car "
   ]
  },
  {
   "cell_type": "code",
   "execution_count": 13,
   "id": "613a7a7f-f1bd-4fb7-babe-ee43548bdd8e",
   "metadata": {},
   "outputs": [],
   "source": [
    "del car[\"model\"]\n"
   ]
  },
  {
   "cell_type": "code",
   "execution_count": 14,
   "id": "1e9d8cef-fe8d-4c6d-b33d-6c1f38629474",
   "metadata": {},
   "outputs": [
    {
     "data": {
      "text/plain": [
       "{'brand': 'Ford', 'year': 1964}"
      ]
     },
     "execution_count": 14,
     "metadata": {},
     "output_type": "execute_result"
    }
   ],
   "source": [
    "car"
   ]
  },
  {
   "cell_type": "code",
   "execution_count": null,
   "id": "a8f78d43-ab8f-4118-a0b6-ec674bcc805a",
   "metadata": {},
   "outputs": [],
   "source": []
  },
  {
   "cell_type": "markdown",
   "id": "f6c31ace-7fce-4145-9170-dd2b0b3af2ff",
   "metadata": {},
   "source": [
    "8. Discuss the importance of dictionary keys being immutable and provide examples."
   ]
  },
  {
   "cell_type": "raw",
   "id": "bbdcf2de-bb19-4c81-b04b-a86e4bce0273",
   "metadata": {},
   "source": [
    "- It ensures that the dictionary can efficiently look up values based on their keys.\n",
    "- Dictionaries are used to store data values in key:value pairs.\n",
    "- Dictionaries cannot have two items with the same key: .\n",
    "- Dictionaries are changeable, meaning that we can change, add or remove items after the dictionary has been created.\n"
   ]
  },
  {
   "cell_type": "code",
   "execution_count": 1,
   "id": "d1b94db5-859d-41b3-a250-179356f152f2",
   "metadata": {},
   "outputs": [],
   "source": [
    "Bike = { \"brand\": \"Hero\", \"model\": \"splendor\", \"year\": 1994 }"
   ]
  },
  {
   "cell_type": "code",
   "execution_count": 2,
   "id": "e59860ef-0617-4574-92c4-f8df4bc5cb7b",
   "metadata": {},
   "outputs": [
    {
     "data": {
      "text/plain": [
       "{'brand': 'Hero', 'model': 'splendor', 'year': 1994}"
      ]
     },
     "execution_count": 2,
     "metadata": {},
     "output_type": "execute_result"
    }
   ],
   "source": [
    "Bike"
   ]
  },
  {
   "cell_type": "code",
   "execution_count": 3,
   "id": "3cf410d6-ab0c-4a7c-b9c5-c1b320a74e9e",
   "metadata": {},
   "outputs": [],
   "source": [
    "Bike = { \"brand\": \"Hero\", \"model\": \"splendor\", \"year\": 1994,  \"colors\": [\"Red\", \"Black\"] }"
   ]
  },
  {
   "cell_type": "code",
   "execution_count": 5,
   "id": "31716e89-4f2c-45a6-af82-39a43841e22c",
   "metadata": {},
   "outputs": [
    {
     "data": {
      "text/plain": [
       "{'brand': 'Hero',\n",
       " 'model': 'splendor',\n",
       " 'year': 1994,\n",
       " 'colors': ['red', 'Black']}"
      ]
     },
     "execution_count": 5,
     "metadata": {},
     "output_type": "execute_result"
    }
   ],
   "source": [
    "Bike"
   ]
  },
  {
   "cell_type": "code",
   "execution_count": null,
   "id": "268c4961-1f99-4d31-86e2-ff6c94778f97",
   "metadata": {},
   "outputs": [],
   "source": []
  }
 ],
 "metadata": {
  "kernelspec": {
   "display_name": "Python 3 (ipykernel)",
   "language": "python",
   "name": "python3"
  },
  "language_info": {
   "codemirror_mode": {
    "name": "ipython",
    "version": 3
   },
   "file_extension": ".py",
   "mimetype": "text/x-python",
   "name": "python",
   "nbconvert_exporter": "python",
   "pygments_lexer": "ipython3",
   "version": "3.10.8"
  }
 },
 "nbformat": 4,
 "nbformat_minor": 5
}
